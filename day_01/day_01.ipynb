{
 "cells": [
  {
   "cell_type": "markdown",
   "metadata": {},
   "source": [
    "# Day 01 - Advent of Code 2023\n",
    "\n",
    "**Puzzle 01** |\n",
    "Idea: Remove any alphabetical character to only leave numbers. Then take the first and last number, concat them, turn them into an integer and sum 'em up.\n"
   ]
  },
  {
   "cell_type": "code",
   "execution_count": 13,
   "metadata": {},
   "outputs": [
    {
     "name": "stdout",
     "output_type": "stream",
     "text": [
      "overall sum: 56108\n"
     ]
    }
   ],
   "source": [
    "# f = open(\"./test.txt\", \"r\")\n",
    "f = open(\"./input.txt\", \"r\")\n",
    "\n",
    "sum = 0\n",
    "\n",
    "for l in f:\n",
    "    l = l.strip()\n",
    "    x = \"\"\n",
    "    for c in l:\n",
    "        if not c.isalpha():\n",
    "            x += c\n",
    "\n",
    "    x_1 = x[0]\n",
    "    x_2 = x[-1]\n",
    "    sum += int(x_1 + x_2)\n",
    "    # print(l, x, x_1, x_2, sum)\n",
    "\n",
    "print(\"overall sum:\",sum)"
   ]
  },
  {
   "cell_type": "markdown",
   "metadata": {},
   "source": [
    "**Puzzle 02** | First idea: Replace strings like \"one\" with their correspondig number (1). \n",
    "\n",
    "Problem: The input contains strings like \"oneight\" that need to result in 18. Using the above approach would only result in \"1ight\", which is wrong. \n",
    "\n",
    "Solution: To fix this, replace each number-string with its number, but pre- and appended their first and last character in string form. So \"one\" gets replaces with \"o1e\", \"eight\" becomes \"e8t\" and so on, resulting in \"oneight\" being transformed to \"o1e8t\". Now removing any alpha-chars reduces this to 18. The rest is like in puzzle 01.\n",
    "\n",
    "(This is way easier, even if not that beautiful, compared to some solutions online, that create a huge lookup-table containing any multi-combinations like \"twoneight\".)"
   ]
  },
  {
   "cell_type": "code",
   "execution_count": 69,
   "metadata": {},
   "outputs": [],
   "source": [
    "def replaceDigits(line):\n",
    "    # print(\"got line\",line)\n",
    "    digits = [{1: \"one\"}, {2: \"two\"}, {3: \"three\"}, {4: \"four\"}, {5: \"five\"}, {6: \"six\"}, {7: \"seven\"}, {8: \"eight\"}, {9: \"nine\"}]\n",
    "    for index in range(len(digits)):\n",
    "        for key in digits[index]:\n",
    "            val = digits[index][key]\n",
    "            # print(line, key, val, val in line)\n",
    "\n",
    "            if val in line:\n",
    "                line = line.replace(val, val[0]+str(key)+val[-1])\n",
    "\n",
    "    return line\n",
    "\n",
    "# replaceDigits(\"testwoneight\")"
   ]
  },
  {
   "cell_type": "code",
   "execution_count": 68,
   "metadata": {},
   "outputs": [
    {
     "name": "stdout",
     "output_type": "stream",
     "text": [
      "overall sum: 55652\n"
     ]
    }
   ],
   "source": [
    "f = open(\"./input.txt\", \"r\")\n",
    "\n",
    "sum = 0\n",
    "\n",
    "for l in f:\n",
    "    l = l.strip()\n",
    "    orig = l\n",
    "    l = replaceDigits(l)\n",
    "    # print(\"returned\",l,\"\\n\")\n",
    "    x = \"\"\n",
    "    for c in l:\n",
    "        if not c.isalpha():\n",
    "            x += c\n",
    "\n",
    "    x_1 = x[0]\n",
    "    x_2 = x[-1]\n",
    "    sum += int(x_1 + x_2)\n",
    "    # print(orig, \"->\", l, x, x_1, x_2, int(x_1 + x_2), sum)\n",
    "\n",
    "print(\"overall sum:\",sum)"
   ]
  }
 ],
 "metadata": {
  "kernelspec": {
   "display_name": "Python 3",
   "language": "python",
   "name": "python3"
  },
  "language_info": {
   "codemirror_mode": {
    "name": "ipython",
    "version": 3
   },
   "file_extension": ".py",
   "mimetype": "text/x-python",
   "name": "python",
   "nbconvert_exporter": "python",
   "pygments_lexer": "ipython3",
   "version": "3.11.6"
  }
 },
 "nbformat": 4,
 "nbformat_minor": 2
}
