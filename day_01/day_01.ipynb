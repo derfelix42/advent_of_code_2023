{
 "cells": [
  {
   "cell_type": "code",
   "execution_count": 7,
   "metadata": {},
   "outputs": [],
   "source": []
  },
  {
   "cell_type": "code",
   "execution_count": 13,
   "metadata": {},
   "outputs": [
    {
     "name": "stdout",
     "output_type": "stream",
     "text": [
      "overall sum: 56108\n"
     ]
    }
   ],
   "source": [
    "# f = open(\"./test.txt\", \"r\")\n",
    "f = open(\"./input.txt\", \"r\")\n",
    "\n",
    "sum = 0\n",
    "\n",
    "for l in f:\n",
    "    l = l.strip()\n",
    "    x = \"\"\n",
    "    for c in l:\n",
    "        if not c.isalpha():\n",
    "            x += c\n",
    "\n",
    "    x_1 = x[0]\n",
    "    x_2 = x[-1]\n",
    "    sum += int(x_1 + x_2)\n",
    "    # print(l, x, x_1, x_2, sum)\n",
    "\n",
    "print(\"overall sum:\",sum)"
   ]
  },
  {
   "cell_type": "code",
   "execution_count": 39,
   "metadata": {},
   "outputs": [],
   "source": [
    "def replaceDigits(line):\n",
    "    # print(\"got line\",line)\n",
    "    digits = [\"one\", \"two\", \"three\",  \"four\", \"five\", \"six\", \"seven\", \"eight\", \"nine\"]\n",
    "    for i in range(len(line)):\n",
    "        tmp = line[:i+1]\n",
    "        for idx, digit in enumerate(digits):\n",
    "            # print(\"->\",digit, idx+1, end=\"\")\n",
    "            if digit in tmp:\n",
    "                # print(\"- is in line!\", end=\"\")\n",
    "                line = line.replace(digit, str(idx+1))\n",
    "            # print()\n",
    "    return line\n",
    "\n",
    "# replaceDigits(\"test\")"
   ]
  },
  {
   "cell_type": "code",
   "execution_count": 43,
   "metadata": {},
   "outputs": [
    {
     "name": "stdout",
     "output_type": "stream",
     "text": [
      "two1nine -> 219 219 2 9 29 29\n",
      "eightwothree -> 8wo3 83 8 3 83 112\n",
      "abcone2threexyz -> abc123xyz 123 1 3 13 125\n",
      "xtwone3four -> x2ne34 234 2 4 24 149\n",
      "4nineeightseven2 -> 49872 49872 4 2 42 191\n",
      "zoneight234 -> z1ight234 1234 1 4 14 205\n",
      "7pqrstsixteen -> 7pqrst6teen 76 7 6 76 281\n",
      "overall sum: 281\n"
     ]
    }
   ],
   "source": [
    "f = open(\"./test2.txt\", \"r\")\n",
    "\n",
    "sum = 0\n",
    "\n",
    "for l in f:\n",
    "    l = l.strip()\n",
    "    if l != None:\n",
    "        orig = l\n",
    "        l = replaceDigits(l)\n",
    "        # print(\"returned\",l,\"\\n\")\n",
    "        x = \"\"\n",
    "        for c in l:\n",
    "            if not c.isalpha():\n",
    "                x += c\n",
    "\n",
    "        x_1 = x[0]\n",
    "        x_2 = x[-1]\n",
    "        sum += int(x_1 + x_2)\n",
    "        print(orig, \"->\", l, x, x_1, x_2, int(x_1 + x_2))\n",
    "\n",
    "print(\"overall sum:\",sum)"
   ]
  }
 ],
 "metadata": {
  "kernelspec": {
   "display_name": "Python 3",
   "language": "python",
   "name": "python3"
  },
  "language_info": {
   "codemirror_mode": {
    "name": "ipython",
    "version": 3
   },
   "file_extension": ".py",
   "mimetype": "text/x-python",
   "name": "python",
   "nbconvert_exporter": "python",
   "pygments_lexer": "ipython3",
   "version": "3.11.6"
  }
 },
 "nbformat": 4,
 "nbformat_minor": 2
}
